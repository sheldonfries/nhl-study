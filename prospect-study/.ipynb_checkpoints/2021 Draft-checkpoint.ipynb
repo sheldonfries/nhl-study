{
 "cells": [
  {
   "cell_type": "code",
   "execution_count": 7,
   "metadata": {},
   "outputs": [
    {
     "name": "stdout",
     "output_type": "stream",
     "text": [
      "Zachary Bolduc\n",
      "          PID          Name Pos   Age League  ...     G     A     P    Year  Overall\n",
      "2345  8471258  Ryan Garlock   F  18.0    OHL  ...  16.0  18.0  34.0  2004.0     45.0\n",
      "\n",
      "[1 rows x 11 columns]\n",
      "         PID              Name Pos   Age  ...    A     P    Year  Overall\n",
      "584  8466202  Maxim Afinogenov   F  18.0  ...  5.0  11.0  1997.0     69.0\n",
      "\n",
      "[1 rows x 11 columns]\n",
      "          PID            Name Pos   Age  ...     A     P    Year  Overall\n",
      "1981  8470608  Robert Nilsson   F  18.0  ...  13.0  21.0  2003.0     15.0\n",
      "\n",
      "[1 rows x 11 columns]\n",
      "          PID                    Name Pos   Age  ...     A     P    Year  Overall\n",
      "3270  8474018  Christopher Didomenico   F  18.0  ...  50.0  75.0  2007.0    164.0\n",
      "\n",
      "[1 rows x 11 columns]\n",
      "          PID           Name Pos   Age  ...     A     P    Year  Overall\n",
      "4890  8477486  Emile Poirier   F  18.0  ...  38.0  70.0  2013.0     22.0\n",
      "\n",
      "[1 rows x 11 columns]\n"
     ]
    }
   ],
   "source": [
    "# print(\"Xavier Bourgault\")\n",
    "# !python3 calc.py QMJHL F 18 29 20 20\n",
    "# print(\"Ayrton Martino\")\n",
    "# !python3 calc.py USHL F 18 38 18 38\n",
    "# print(\"Oskar Olausson\")\n",
    "# !python3 calc.py Sweden-2 F 18 16 14 13\n",
    "# print(\"Sasha Pastujov\")\n",
    "# !python3 calc.py USHL F 18 18 10 16\n",
    "print(\"Zachary Bolduc\")\n",
    "!python3 calc.py QMJHL F 18 27 10 19"
   ]
  },
  {
   "cell_type": "code",
   "execution_count": null,
   "metadata": {},
   "outputs": [],
   "source": []
  }
 ],
 "metadata": {
  "kernelspec": {
   "display_name": "Python 3 (ipykernel)",
   "language": "python",
   "name": "python3"
  },
  "language_info": {
   "codemirror_mode": {
    "name": "ipython",
    "version": 3
   },
   "file_extension": ".py",
   "mimetype": "text/x-python",
   "name": "python",
   "nbconvert_exporter": "python",
   "pygments_lexer": "ipython3",
   "version": "3.8.2"
  }
 },
 "nbformat": 4,
 "nbformat_minor": 4
}
