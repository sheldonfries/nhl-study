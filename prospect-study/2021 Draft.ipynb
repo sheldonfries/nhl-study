{
 "cells": [
  {
   "cell_type": "code",
   "execution_count": 8,
   "metadata": {},
   "outputs": [
    {
     "name": "stdout",
     "output_type": "stream",
     "text": [
      "         PID           Name Pos   Age League  ...     G     A     P    Year  Overall\n",
      "178  8459441  Landon Wilson   F  18.0   USHL  ...  29.0  36.0  65.0  1993.0     19.0\n",
      "\n",
      "[1 rows x 11 columns]\n",
      "          PID           Name Pos   Age  ...     A     P    Year  Overall\n",
      "5527  8478458  Jack Roslovic   F  18.0  ...  27.0  38.0  2015.0     25.0\n",
      "\n",
      "[1 rows x 11 columns]\n",
      "          PID         Name Pos   Age League  ...     G     A     P    Year  Overall\n",
      "5518  8478398  Kyle Connor   F  18.0   USHL  ...  34.0  46.0  80.0  2015.0     17.0\n",
      "\n",
      "[1 rows x 11 columns]\n",
      "          PID          Name Pos   Age League  ...     G     A     P    Year  Overall\n",
      "5199  8477947  Sonny Milano   F  18.0   USHL  ...  14.0  25.0  39.0  2014.0     16.0\n",
      "\n",
      "[1 rows x 11 columns]\n",
      "          PID              Name Pos   Age  ...     A     P    Year  Overall\n",
      "4977  8477403  Taylor Cammarata   F  18.0  ...  55.0  93.0  2013.0     76.0\n",
      "\n",
      "[1 rows x 11 columns]\n"
     ]
    }
   ],
   "source": [
    "!python3 calc.py USHL F 18 31 24 22"
   ]
  },
  {
   "cell_type": "code",
   "execution_count": null,
   "metadata": {},
   "outputs": [],
   "source": []
  }
 ],
 "metadata": {
  "kernelspec": {
   "display_name": "Python 3",
   "language": "python",
   "name": "python3"
  },
  "language_info": {
   "codemirror_mode": {
    "name": "ipython",
    "version": 3
   },
   "file_extension": ".py",
   "mimetype": "text/x-python",
   "name": "python",
   "nbconvert_exporter": "python",
   "pygments_lexer": "ipython3",
   "version": "3.6.9"
  }
 },
 "nbformat": 4,
 "nbformat_minor": 4
}
